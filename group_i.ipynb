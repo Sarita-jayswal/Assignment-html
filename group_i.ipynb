{
  "nbformat": 4,
  "nbformat_minor": 0,
  "metadata": {
    "colab": {
      "provenance": [],
      "authorship_tag": "ABX9TyMsOmTur4SiNgu9MJodaYNb",
      "include_colab_link": true
    },
    "kernelspec": {
      "name": "python3",
      "display_name": "Python 3"
    },
    "language_info": {
      "name": "python"
    }
  },
  "cells": [
    {
      "cell_type": "markdown",
      "metadata": {
        "id": "view-in-github",
        "colab_type": "text"
      },
      "source": [
        "<a href=\"https://colab.research.google.com/github/Sarita-jayswal/Assignment-html/blob/master/group_i.ipynb\" target=\"_parent\"><img src=\"https://colab.research.google.com/assets/colab-badge.svg\" alt=\"Open In Colab\"/></a>"
      ]
    },
    {
      "cell_type": "code",
      "execution_count": 1,
      "metadata": {
        "id": "EaROlSivjL0R"
      },
      "outputs": [],
      "source": [
        "import requests\n",
        "from bs4 import BeautifulSoup\n",
        "\n",
        "def get_topics_page(url):\n",
        "    \n",
        "    \n",
        "    response=requests.get(url)\n",
        "    # check successfull response\n",
        "    if response.status_code != 200:\n",
        "        raise Exception(f'Failed to load page {topic_url}')\n",
        "    # Parse using BeautifulSoup\n",
        "    doc = BeautifulSoup(response.text, 'html.parser')\n",
        "    return doc"
      ]
    },
    {
      "cell_type": "code",
      "source": [
        "topic_url = 'https://www.imdb.com/chart/moviemeter/?ref_=nv_mv_mpm'\n",
        "doc = get_topics_page(topic_url)"
      ],
      "metadata": {
        "id": "Q6WKblEQlDoY"
      },
      "execution_count": 3,
      "outputs": []
    },
    {
      "cell_type": "code",
      "source": [
        "def get_movie_titles(doc):\n",
        "    \n",
        "    selection_class=\"titleColumn\"\n",
        "    movie_title_tags=doc.find_all('td',{'class':selection_class})\n",
        "    movie_titles=[]\n",
        "\n",
        "    for tag in movie_title_tags:\n",
        "        title = tag.find('a').text\n",
        "        movie_titles.append(title)\n",
        "        \n",
        "        \n",
        "    return movie_titles"
      ],
      "metadata": {
        "id": "JQgleDaBlPs4"
      },
      "execution_count": 4,
      "outputs": []
    },
    {
      "cell_type": "code",
      "source": [
        "titles = get_movie_titles(doc)"
      ],
      "metadata": {
        "id": "FMluZgQooqTk"
      },
      "execution_count": 5,
      "outputs": []
    },
    {
      "cell_type": "code",
      "source": [
        "titles[:10]"
      ],
      "metadata": {
        "colab": {
          "base_uri": "https://localhost:8080/"
        },
        "id": "tmUqrt8UowA9",
        "outputId": "7bcaab58-ff27-446c-ac79-75ec22718d76"
      },
      "execution_count": 7,
      "outputs": [
        {
          "output_type": "execute_result",
          "data": {
            "text/plain": [
              "['Avatar: The Way of Water',\n",
              " 'The Menu',\n",
              " 'Babylon',\n",
              " 'Everything Everywhere All at Once',\n",
              " 'M3GAN',\n",
              " 'The Banshees of Inisherin',\n",
              " 'Pathaan',\n",
              " 'You People',\n",
              " 'Teen Wolf: The Movie',\n",
              " 'Puss in Boots: The Last Wish']"
            ]
          },
          "metadata": {},
          "execution_count": 7
        }
      ]
    },
    {
      "cell_type": "code",
      "source": [],
      "metadata": {
        "id": "_e6-PSydo0E-"
      },
      "execution_count": null,
      "outputs": []
    }
  ]
}