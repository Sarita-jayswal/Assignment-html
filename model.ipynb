{
  "cells": [
    {
      "cell_type": "markdown",
      "metadata": {
        "id": "view-in-github",
        "colab_type": "text"
      },
      "source": [
        "<a href=\"https://colab.research.google.com/github/Sarita-jayswal/Assignment-html/blob/master/model.ipynb\" target=\"_parent\"><img src=\"https://colab.research.google.com/assets/colab-badge.svg\" alt=\"Open In Colab\"/></a>"
      ]
    },
    {
      "cell_type": "code",
      "execution_count": 1,
      "id": "6b406d2d-1bdf-4d86-b54b-4b4005116397",
      "metadata": {
        "id": "6b406d2d-1bdf-4d86-b54b-4b4005116397"
      },
      "outputs": [],
      "source": [
        "import os\n",
        "import re\n",
        "import xml.etree.ElementTree as ET\n",
        "import pandas as pd\n",
        "from sklearn.model_selection import train_test_split\n",
        "from sklearn.preprocessing import LabelEncoder\n",
        "from tensorflow.keras.preprocessing.text import Tokenizer\n",
        "from tensorflow.keras.preprocessing.sequence import pad_sequences\n",
        "from tensorflow.keras.models import Sequential\n",
        "from tensorflow.keras.layers import Embedding, LSTM, Dense, Dropout\n",
        "from tensorflow.keras.utils import to_categorical\n",
        "from nltk.tokenize import word_tokenize\n",
        "import nltk\n",
        "\n",
        "#from textblob import TextBlob\n",
        "from nltk.corpus import stopwords\n",
        "from nltk.sentiment.vader import SentimentIntensityAnalyzer\n",
        "import string\n"
      ]
    },
    {
      "cell_type": "code",
      "execution_count": 2,
      "id": "3bff40d6-4c46-4048-a52d-1d1e1ccf300d",
      "metadata": {
        "id": "3bff40d6-4c46-4048-a52d-1d1e1ccf300d"
      },
      "outputs": [],
      "source": [
        "# Define the base path where the data is extracted\n",
        "data_path = r'C:\\Users\\DELL\\Desktop\\torrens-isy\\Assign-3\\filtered1.csv'"
      ]
    },
    {
      "cell_type": "code",
      "execution_count": 3,
      "id": "9cbbe075-b83e-4b8e-9e02-35c16aff9cba",
      "metadata": {
        "id": "9cbbe075-b83e-4b8e-9e02-35c16aff9cba"
      },
      "outputs": [],
      "source": [
        "filtered_reviews_df =pd.read_csv(r'/content/filtered1.csv')"
      ]
    },
    {
      "cell_type": "code",
      "execution_count": 4,
      "id": "2138e65b-180c-459c-a1d2-5021bed6cd97",
      "metadata": {
        "scrolled": true,
        "colab": {
          "base_uri": "https://localhost:8080/",
          "height": 293
        },
        "id": "2138e65b-180c-459c-a1d2-5021bed6cd97",
        "outputId": "1b528486-001d-45ac-a26d-d8df843b18a1"
      },
      "outputs": [
        {
          "output_type": "execute_result",
          "data": {
            "text/plain": [
              "                                         review_text  rating  \\\n",
              "0  Sphere by Michael Crichton is an excellant nov...     5.0   \n",
              "1  Dr. Oz is an accomplished heart surgeon in the...     4.0   \n",
              "2  The most gorgeous artwork in comic books. Cont...     5.0   \n",
              "3  This book is for lovers of Robicheaux.  His de...     4.0   \n",
              "4  This the one book that taught me more about ho...     4.0   \n",
              "\n",
              "                                      title           reviewer  \\\n",
              "0           One of the best Crichton novels           Joseph M   \n",
              "1                The Medicine of the Future        Wafa Rashed   \n",
              "2                                Beautiful!  Sarah Silva \"Sar\"   \n",
              "3                  For lovers of Robicheaux        G. Rousseau   \n",
              "4  To the point and beautifully Illustrated    RISHAD S. MEHTA   \n",
              "\n",
              "   reviewer_location  label category  \\\n",
              "0      Colorado, USA      1    books   \n",
              "1    Jabriya, KUWAIT      1    books   \n",
              "2  San Diego, CA USA      1    books   \n",
              "3  Finistere, France      1    books   \n",
              "4     Bombay,  INDIA      1    books   \n",
              "\n",
              "                                        cleaned_text  token_count  \n",
              "0  sphere michael crichton excellant novel certai...           93  \n",
              "1  accomplished heart surgeon field cardiac trans...           63  \n",
              "2  gorgeous artwork comic books contains extraord...           27  \n",
              "3  book lovers robicheaux demons seem rest redemp...           42  \n",
              "4  book taught camera manual step step approach l...           73  "
            ],
            "text/html": [
              "\n",
              "  <div id=\"df-fa54f83f-6501-4854-9fb3-8867c747eee5\" class=\"colab-df-container\">\n",
              "    <div>\n",
              "<style scoped>\n",
              "    .dataframe tbody tr th:only-of-type {\n",
              "        vertical-align: middle;\n",
              "    }\n",
              "\n",
              "    .dataframe tbody tr th {\n",
              "        vertical-align: top;\n",
              "    }\n",
              "\n",
              "    .dataframe thead th {\n",
              "        text-align: right;\n",
              "    }\n",
              "</style>\n",
              "<table border=\"1\" class=\"dataframe\">\n",
              "  <thead>\n",
              "    <tr style=\"text-align: right;\">\n",
              "      <th></th>\n",
              "      <th>review_text</th>\n",
              "      <th>rating</th>\n",
              "      <th>title</th>\n",
              "      <th>reviewer</th>\n",
              "      <th>reviewer_location</th>\n",
              "      <th>label</th>\n",
              "      <th>category</th>\n",
              "      <th>cleaned_text</th>\n",
              "      <th>token_count</th>\n",
              "    </tr>\n",
              "  </thead>\n",
              "  <tbody>\n",
              "    <tr>\n",
              "      <th>0</th>\n",
              "      <td>Sphere by Michael Crichton is an excellant nov...</td>\n",
              "      <td>5.0</td>\n",
              "      <td>One of the best Crichton novels</td>\n",
              "      <td>Joseph M</td>\n",
              "      <td>Colorado, USA</td>\n",
              "      <td>1</td>\n",
              "      <td>books</td>\n",
              "      <td>sphere michael crichton excellant novel certai...</td>\n",
              "      <td>93</td>\n",
              "    </tr>\n",
              "    <tr>\n",
              "      <th>1</th>\n",
              "      <td>Dr. Oz is an accomplished heart surgeon in the...</td>\n",
              "      <td>4.0</td>\n",
              "      <td>The Medicine of the Future</td>\n",
              "      <td>Wafa Rashed</td>\n",
              "      <td>Jabriya, KUWAIT</td>\n",
              "      <td>1</td>\n",
              "      <td>books</td>\n",
              "      <td>accomplished heart surgeon field cardiac trans...</td>\n",
              "      <td>63</td>\n",
              "    </tr>\n",
              "    <tr>\n",
              "      <th>2</th>\n",
              "      <td>The most gorgeous artwork in comic books. Cont...</td>\n",
              "      <td>5.0</td>\n",
              "      <td>Beautiful!</td>\n",
              "      <td>Sarah Silva \"Sar\"</td>\n",
              "      <td>San Diego, CA USA</td>\n",
              "      <td>1</td>\n",
              "      <td>books</td>\n",
              "      <td>gorgeous artwork comic books contains extraord...</td>\n",
              "      <td>27</td>\n",
              "    </tr>\n",
              "    <tr>\n",
              "      <th>3</th>\n",
              "      <td>This book is for lovers of Robicheaux.  His de...</td>\n",
              "      <td>4.0</td>\n",
              "      <td>For lovers of Robicheaux</td>\n",
              "      <td>G. Rousseau</td>\n",
              "      <td>Finistere, France</td>\n",
              "      <td>1</td>\n",
              "      <td>books</td>\n",
              "      <td>book lovers robicheaux demons seem rest redemp...</td>\n",
              "      <td>42</td>\n",
              "    </tr>\n",
              "    <tr>\n",
              "      <th>4</th>\n",
              "      <td>This the one book that taught me more about ho...</td>\n",
              "      <td>4.0</td>\n",
              "      <td>To the point and beautifully Illustrated</td>\n",
              "      <td>RISHAD S. MEHTA</td>\n",
              "      <td>Bombay,  INDIA</td>\n",
              "      <td>1</td>\n",
              "      <td>books</td>\n",
              "      <td>book taught camera manual step step approach l...</td>\n",
              "      <td>73</td>\n",
              "    </tr>\n",
              "  </tbody>\n",
              "</table>\n",
              "</div>\n",
              "    <div class=\"colab-df-buttons\">\n",
              "\n",
              "  <div class=\"colab-df-container\">\n",
              "    <button class=\"colab-df-convert\" onclick=\"convertToInteractive('df-fa54f83f-6501-4854-9fb3-8867c747eee5')\"\n",
              "            title=\"Convert this dataframe to an interactive table.\"\n",
              "            style=\"display:none;\">\n",
              "\n",
              "  <svg xmlns=\"http://www.w3.org/2000/svg\" height=\"24px\" viewBox=\"0 -960 960 960\">\n",
              "    <path d=\"M120-120v-720h720v720H120Zm60-500h600v-160H180v160Zm220 220h160v-160H400v160Zm0 220h160v-160H400v160ZM180-400h160v-160H180v160Zm440 0h160v-160H620v160ZM180-180h160v-160H180v160Zm440 0h160v-160H620v160Z\"/>\n",
              "  </svg>\n",
              "    </button>\n",
              "\n",
              "  <style>\n",
              "    .colab-df-container {\n",
              "      display:flex;\n",
              "      gap: 12px;\n",
              "    }\n",
              "\n",
              "    .colab-df-convert {\n",
              "      background-color: #E8F0FE;\n",
              "      border: none;\n",
              "      border-radius: 50%;\n",
              "      cursor: pointer;\n",
              "      display: none;\n",
              "      fill: #1967D2;\n",
              "      height: 32px;\n",
              "      padding: 0 0 0 0;\n",
              "      width: 32px;\n",
              "    }\n",
              "\n",
              "    .colab-df-convert:hover {\n",
              "      background-color: #E2EBFA;\n",
              "      box-shadow: 0px 1px 2px rgba(60, 64, 67, 0.3), 0px 1px 3px 1px rgba(60, 64, 67, 0.15);\n",
              "      fill: #174EA6;\n",
              "    }\n",
              "\n",
              "    .colab-df-buttons div {\n",
              "      margin-bottom: 4px;\n",
              "    }\n",
              "\n",
              "    [theme=dark] .colab-df-convert {\n",
              "      background-color: #3B4455;\n",
              "      fill: #D2E3FC;\n",
              "    }\n",
              "\n",
              "    [theme=dark] .colab-df-convert:hover {\n",
              "      background-color: #434B5C;\n",
              "      box-shadow: 0px 1px 3px 1px rgba(0, 0, 0, 0.15);\n",
              "      filter: drop-shadow(0px 1px 2px rgba(0, 0, 0, 0.3));\n",
              "      fill: #FFFFFF;\n",
              "    }\n",
              "  </style>\n",
              "\n",
              "    <script>\n",
              "      const buttonEl =\n",
              "        document.querySelector('#df-fa54f83f-6501-4854-9fb3-8867c747eee5 button.colab-df-convert');\n",
              "      buttonEl.style.display =\n",
              "        google.colab.kernel.accessAllowed ? 'block' : 'none';\n",
              "\n",
              "      async function convertToInteractive(key) {\n",
              "        const element = document.querySelector('#df-fa54f83f-6501-4854-9fb3-8867c747eee5');\n",
              "        const dataTable =\n",
              "          await google.colab.kernel.invokeFunction('convertToInteractive',\n",
              "                                                    [key], {});\n",
              "        if (!dataTable) return;\n",
              "\n",
              "        const docLinkHtml = 'Like what you see? Visit the ' +\n",
              "          '<a target=\"_blank\" href=https://colab.research.google.com/notebooks/data_table.ipynb>data table notebook</a>'\n",
              "          + ' to learn more about interactive tables.';\n",
              "        element.innerHTML = '';\n",
              "        dataTable['output_type'] = 'display_data';\n",
              "        await google.colab.output.renderOutput(dataTable, element);\n",
              "        const docLink = document.createElement('div');\n",
              "        docLink.innerHTML = docLinkHtml;\n",
              "        element.appendChild(docLink);\n",
              "      }\n",
              "    </script>\n",
              "  </div>\n",
              "\n",
              "\n",
              "<div id=\"df-70a08e91-7212-4172-9b8f-21e1f97ce1f3\">\n",
              "  <button class=\"colab-df-quickchart\" onclick=\"quickchart('df-70a08e91-7212-4172-9b8f-21e1f97ce1f3')\"\n",
              "            title=\"Suggest charts\"\n",
              "            style=\"display:none;\">\n",
              "\n",
              "<svg xmlns=\"http://www.w3.org/2000/svg\" height=\"24px\"viewBox=\"0 0 24 24\"\n",
              "     width=\"24px\">\n",
              "    <g>\n",
              "        <path d=\"M19 3H5c-1.1 0-2 .9-2 2v14c0 1.1.9 2 2 2h14c1.1 0 2-.9 2-2V5c0-1.1-.9-2-2-2zM9 17H7v-7h2v7zm4 0h-2V7h2v10zm4 0h-2v-4h2v4z\"/>\n",
              "    </g>\n",
              "</svg>\n",
              "  </button>\n",
              "\n",
              "<style>\n",
              "  .colab-df-quickchart {\n",
              "      --bg-color: #E8F0FE;\n",
              "      --fill-color: #1967D2;\n",
              "      --hover-bg-color: #E2EBFA;\n",
              "      --hover-fill-color: #174EA6;\n",
              "      --disabled-fill-color: #AAA;\n",
              "      --disabled-bg-color: #DDD;\n",
              "  }\n",
              "\n",
              "  [theme=dark] .colab-df-quickchart {\n",
              "      --bg-color: #3B4455;\n",
              "      --fill-color: #D2E3FC;\n",
              "      --hover-bg-color: #434B5C;\n",
              "      --hover-fill-color: #FFFFFF;\n",
              "      --disabled-bg-color: #3B4455;\n",
              "      --disabled-fill-color: #666;\n",
              "  }\n",
              "\n",
              "  .colab-df-quickchart {\n",
              "    background-color: var(--bg-color);\n",
              "    border: none;\n",
              "    border-radius: 50%;\n",
              "    cursor: pointer;\n",
              "    display: none;\n",
              "    fill: var(--fill-color);\n",
              "    height: 32px;\n",
              "    padding: 0;\n",
              "    width: 32px;\n",
              "  }\n",
              "\n",
              "  .colab-df-quickchart:hover {\n",
              "    background-color: var(--hover-bg-color);\n",
              "    box-shadow: 0 1px 2px rgba(60, 64, 67, 0.3), 0 1px 3px 1px rgba(60, 64, 67, 0.15);\n",
              "    fill: var(--button-hover-fill-color);\n",
              "  }\n",
              "\n",
              "  .colab-df-quickchart-complete:disabled,\n",
              "  .colab-df-quickchart-complete:disabled:hover {\n",
              "    background-color: var(--disabled-bg-color);\n",
              "    fill: var(--disabled-fill-color);\n",
              "    box-shadow: none;\n",
              "  }\n",
              "\n",
              "  .colab-df-spinner {\n",
              "    border: 2px solid var(--fill-color);\n",
              "    border-color: transparent;\n",
              "    border-bottom-color: var(--fill-color);\n",
              "    animation:\n",
              "      spin 1s steps(1) infinite;\n",
              "  }\n",
              "\n",
              "  @keyframes spin {\n",
              "    0% {\n",
              "      border-color: transparent;\n",
              "      border-bottom-color: var(--fill-color);\n",
              "      border-left-color: var(--fill-color);\n",
              "    }\n",
              "    20% {\n",
              "      border-color: transparent;\n",
              "      border-left-color: var(--fill-color);\n",
              "      border-top-color: var(--fill-color);\n",
              "    }\n",
              "    30% {\n",
              "      border-color: transparent;\n",
              "      border-left-color: var(--fill-color);\n",
              "      border-top-color: var(--fill-color);\n",
              "      border-right-color: var(--fill-color);\n",
              "    }\n",
              "    40% {\n",
              "      border-color: transparent;\n",
              "      border-right-color: var(--fill-color);\n",
              "      border-top-color: var(--fill-color);\n",
              "    }\n",
              "    60% {\n",
              "      border-color: transparent;\n",
              "      border-right-color: var(--fill-color);\n",
              "    }\n",
              "    80% {\n",
              "      border-color: transparent;\n",
              "      border-right-color: var(--fill-color);\n",
              "      border-bottom-color: var(--fill-color);\n",
              "    }\n",
              "    90% {\n",
              "      border-color: transparent;\n",
              "      border-bottom-color: var(--fill-color);\n",
              "    }\n",
              "  }\n",
              "</style>\n",
              "\n",
              "  <script>\n",
              "    async function quickchart(key) {\n",
              "      const quickchartButtonEl =\n",
              "        document.querySelector('#' + key + ' button');\n",
              "      quickchartButtonEl.disabled = true;  // To prevent multiple clicks.\n",
              "      quickchartButtonEl.classList.add('colab-df-spinner');\n",
              "      try {\n",
              "        const charts = await google.colab.kernel.invokeFunction(\n",
              "            'suggestCharts', [key], {});\n",
              "      } catch (error) {\n",
              "        console.error('Error during call to suggestCharts:', error);\n",
              "      }\n",
              "      quickchartButtonEl.classList.remove('colab-df-spinner');\n",
              "      quickchartButtonEl.classList.add('colab-df-quickchart-complete');\n",
              "    }\n",
              "    (() => {\n",
              "      let quickchartButtonEl =\n",
              "        document.querySelector('#df-70a08e91-7212-4172-9b8f-21e1f97ce1f3 button');\n",
              "      quickchartButtonEl.style.display =\n",
              "        google.colab.kernel.accessAllowed ? 'block' : 'none';\n",
              "    })();\n",
              "  </script>\n",
              "</div>\n",
              "\n",
              "    </div>\n",
              "  </div>\n"
            ],
            "application/vnd.google.colaboratory.intrinsic+json": {
              "type": "dataframe",
              "variable_name": "filtered_reviews_df",
              "summary": "{\n  \"name\": \"filtered_reviews_df\",\n  \"rows\": 54317,\n  \"fields\": [\n    {\n      \"column\": \"review_text\",\n      \"properties\": {\n        \"dtype\": \"string\",\n        \"num_unique_values\": 48959,\n        \"samples\": [\n          \"I've been using WGT624 for many months and I am not satisfied with it. It hangs frequently. When it hangs you can't even access the router with a wire (LAN ports). It works only if you turn it off and on. I've always had the latest firmware updates, but none of those helped.\",\n          \"I have had several Toshiba TVs that have lasted a long time and always have a sharp picture. This one is excellent as well. One other ability Toshiba's all seem to have--they tune in stations sharper than most TVs. This was a resonably low-cost TV/DVD player but it performs like more expensive models. I have not ever seen a 'cheap' Toshiba product designed to SELL but not work well. Feel safe buying this TV\",\n          \"College Football is fast becoming America's newest pastime. There are always those who will argue baseball is better, but college football is always talked about from July through February with a childlike zeal. &amp;quot;Rites of Autumn&amp;quot; attempts to give a history of the coaches and players that shaped the sport into the NCAA and NFL we know today. The series is ten episodes narrated by Burt Reynolds and each one has themes similiar to a Ken Burns' documentary. The only holes in the show are the lack of information on teams other than Alabama,any Big Ten teams, Notre Dame, USC,Oklahoma, and Miami. There are many teams that really helped shape the sport that were totally looked over. Perhaps time did not permit, but this is a very entertaining view of sports history. Overall I would recommend anyone at least renting it or borrowing from a friend because if you love football...you will love &amp;quot;Rites of Autumn&amp;quot;\"\n        ],\n        \"semantic_type\": \"\",\n        \"description\": \"\"\n      }\n    },\n    {\n      \"column\": \"rating\",\n      \"properties\": {\n        \"dtype\": \"number\",\n        \"std\": 1.4367694060947747,\n        \"min\": 1.0,\n        \"max\": 5.0,\n        \"num_unique_values\": 4,\n        \"samples\": [\n          4.0,\n          2.0,\n          5.0\n        ],\n        \"semantic_type\": \"\",\n        \"description\": \"\"\n      }\n    },\n    {\n      \"column\": \"title\",\n      \"properties\": {\n        \"dtype\": \"string\",\n        \"num_unique_values\": 44558,\n        \"samples\": [\n          \"Blissfully quirky . . .\",\n          \"Praise on!  We were born to worship!\",\n          \"Bourne - Excellent again\"\n        ],\n        \"semantic_type\": \"\",\n        \"description\": \"\"\n      }\n    },\n    {\n      \"column\": \"reviewer\",\n      \"properties\": {\n        \"dtype\": \"string\",\n        \"num_unique_values\": 38184,\n        \"samples\": [\n          \"Y. Slayton\",\n          \"Jesusfreak \\\"Rene\\\"\",\n          \"Richard M. Enders\"\n        ],\n        \"semantic_type\": \"\",\n        \"description\": \"\"\n      }\n    },\n    {\n      \"column\": \"reviewer_location\",\n      \"properties\": {\n        \"dtype\": \"category\",\n        \"num_unique_values\": 15131,\n        \"samples\": [\n          \"Atlanta, GA\",\n          \"Porterville, CA USA\",\n          \"Pacifica, CA  USA\"\n        ],\n        \"semantic_type\": \"\",\n        \"description\": \"\"\n      }\n    },\n    {\n      \"column\": \"label\",\n      \"properties\": {\n        \"dtype\": \"number\",\n        \"std\": 0,\n        \"min\": 0,\n        \"max\": 1,\n        \"num_unique_values\": 2,\n        \"samples\": [\n          0,\n          1\n        ],\n        \"semantic_type\": \"\",\n        \"description\": \"\"\n      }\n    },\n    {\n      \"column\": \"category\",\n      \"properties\": {\n        \"dtype\": \"category\",\n        \"num_unique_values\": 4,\n        \"samples\": [\n          \"dvd\",\n          \"kitchen_&_housewares\"\n        ],\n        \"semantic_type\": \"\",\n        \"description\": \"\"\n      }\n    },\n    {\n      \"column\": \"cleaned_text\",\n      \"properties\": {\n        \"dtype\": \"string\",\n        \"num_unique_values\": 48913,\n        \"samples\": [\n          \"bought vtech phones house since begining battery problems really annoying make phone call phone work battery point time least phones constantly reports charge battery message means phone course hear ring phone never room pick phone since location battery problem reviewers noted spite fact make minimal phones leave charger time beginning used take battery phone back quite work anymore tried support live person vtech number website suggest replacing batteries rechargeable many times really supposed rechargeable baterries already replaced know wont vtech products\",\n          \"owned sandisk months went dead spending honeymoon club paradise palawan philippines taking many totally great pictures stopped working working taking pictures palawan going take last picture plane digital camera said error damn tried reading card reader home work even tried different digicams reported error card really pissed pictures maaaaan even replaced circuit city says need receipt replace\"\n        ],\n        \"semantic_type\": \"\",\n        \"description\": \"\"\n      }\n    },\n    {\n      \"column\": \"token_count\",\n      \"properties\": {\n        \"dtype\": \"number\",\n        \"std\": 25,\n        \"min\": 12,\n        \"max\": 111,\n        \"num_unique_values\": 100,\n        \"samples\": [\n          95,\n          57\n        ],\n        \"semantic_type\": \"\",\n        \"description\": \"\"\n      }\n    }\n  ]\n}"
            }
          },
          "metadata": {},
          "execution_count": 4
        }
      ],
      "source": [
        "filtered_reviews_df.head()\n"
      ]
    },
    {
      "cell_type": "code",
      "execution_count": 5,
      "id": "0d874472-60d3-4351-9f85-ec64cd01f277",
      "metadata": {
        "id": "0d874472-60d3-4351-9f85-ec64cd01f277"
      },
      "outputs": [],
      "source": [
        "# Shuffle the entire DataFrame to ensure randomness\n",
        "filtered_reviews_df = filtered_reviews_df.sample(frac=1, random_state=42).reset_index(drop=True)\n"
      ]
    },
    {
      "cell_type": "markdown",
      "id": "4a18307c-bff1-4c98-ad4e-fa52afc95597",
      "metadata": {
        "id": "4a18307c-bff1-4c98-ad4e-fa52afc95597"
      },
      "source": [
        "Tokenize and Pad the data\n"
      ]
    },
    {
      "cell_type": "code",
      "execution_count": 6,
      "id": "0f2d3ccc-c566-47e3-aad6-30af3d0c59ee",
      "metadata": {
        "colab": {
          "base_uri": "https://localhost:8080/"
        },
        "id": "0f2d3ccc-c566-47e3-aad6-30af3d0c59ee",
        "outputId": "a420de56-65de-4617-c3d0-1d3118afd342"
      },
      "outputs": [
        {
          "output_type": "stream",
          "name": "stdout",
          "text": [
            "Shape of padded sequences: (54317, 120)\n"
          ]
        }
      ],
      "source": [
        "import pandas as pd\n",
        "from tensorflow.keras.preprocessing.text import Tokenizer\n",
        "from tensorflow.keras.preprocessing.sequence import pad_sequences\n",
        "from sklearn.model_selection import train_test_split\n",
        "\n",
        "#  Randomize the data\n",
        "filtered_reviews_df = filtered_reviews_df.sample(frac=1, random_state=42).reset_index(drop=True)\n",
        "\n",
        "#  Tokenization and Padding\n",
        "max_vocab_size = 20000  # Limit vocabulary size to 20,000 most frequent words\n",
        "max_seq_len = 120      # Maximum sequence length for padding\n",
        "\n",
        "# Initialize the tokenizer\n",
        "tokenizer = Tokenizer(num_words=max_vocab_size, oov_token=\"<OOV>\")\n",
        "\n",
        "# Fit the tokenizer on the cleaned text\n",
        "tokenizer.fit_on_texts(filtered_reviews_df['cleaned_text'])\n",
        "\n",
        "# Convert text to sequences\n",
        "sequences = tokenizer.texts_to_sequences(filtered_reviews_df['cleaned_text'])\n",
        "\n",
        "# Replace None tokens with 0\n",
        "sequences = [[token if token is not None else 0 for token in tokens] for tokens in sequences]\n",
        "\n",
        "# Pad sequences to ensure uniform input length\n",
        "padded_sequences = pad_sequences(sequences, maxlen=max_seq_len, padding='post', truncating='post')\n",
        "\n",
        "# Check the shape of the padded sequences\n",
        "print(f\"Shape of padded sequences: {padded_sequences.shape}\")\n",
        "\n"
      ]
    },
    {
      "cell_type": "code",
      "execution_count": 7,
      "id": "b9ea2e0d-d8c2-40aa-9aae-8ff80200b8be",
      "metadata": {
        "colab": {
          "base_uri": "https://localhost:8080/"
        },
        "id": "b9ea2e0d-d8c2-40aa-9aae-8ff80200b8be",
        "outputId": "239b390e-daa7-435d-c595-60bb744df487"
      },
      "outputs": [
        {
          "output_type": "stream",
          "name": "stdout",
          "text": [
            "Sentiment labels shape: (54317, 1)\n",
            "Category labels shape: (54317,)\n",
            "Training set size: 38021, Validation set size: 8148, Test set size: 8148\n",
            "y_train_category shape after flattening: (38021,)\n",
            "y_val_category shape after flattening: (8148,)\n"
          ]
        }
      ],
      "source": [
        "# Prepare labels for sentiment analysis\n",
        "sentiment_labels = filtered_reviews_df['label'].values.reshape(-1, 1)  # Assuming 'label' is 1 for positive, 0 for negative\n",
        "print(\"Sentiment labels shape:\", sentiment_labels.shape)\n",
        "\n",
        "# One-hot encode the category labels for multi-class classification\n",
        "category_mapping = {category: idx for idx, category in enumerate(filtered_reviews_df['category'].unique())}\n",
        "filtered_reviews_df['category_encoded'] = filtered_reviews_df['category'].map(category_mapping).astype(int)\n",
        "category_labels = filtered_reviews_df['category_encoded'].values  # Ensure shape is (batch_size,)\n",
        "category_labels = category_labels.astype(int)  # Ensure they are integers\n",
        "# Flatten the category labels if they have an extra dimension\n",
        "if len(category_labels.shape) > 1:\n",
        "    category_labels = category_labels.flatten()\n",
        "\n",
        "# Print to check\n",
        "print(\"Category labels shape:\", category_labels.shape)  # Should be (batch_size,)\n",
        "\n",
        "\n",
        "# Split the data into training, validation, and test sets\n",
        "X_train, X_temp, y_train_sentiment, y_temp_sentiment, y_train_category, y_temp_category = train_test_split(\n",
        "    padded_sequences, sentiment_labels, category_labels, test_size=0.3, random_state=42)\n",
        "\n",
        "X_val, X_test, y_val_sentiment, y_test_sentiment, y_val_category, y_test_category = train_test_split(\n",
        "    X_temp, y_temp_sentiment, y_temp_category, test_size=0.5, random_state=42)\n",
        "\n",
        "# Check data shapes\n",
        "print(f\"Training set size: {len(X_train)}, Validation set size: {len(X_val)}, Test set size: {len(X_test)}\")\n",
        "print(f\"y_train_category shape after flattening: {y_train_category.shape}\")\n",
        "print(f\"y_val_category shape after flattening: {y_val_category.shape}\")"
      ]
    },
    {
      "cell_type": "markdown",
      "id": "9ca46afc-4204-4ce9-9827-0695a359f306",
      "metadata": {
        "id": "9ca46afc-4204-4ce9-9827-0695a359f306"
      },
      "source": [
        "Model Architecture\n"
      ]
    },
    {
      "cell_type": "code",
      "execution_count": 8,
      "id": "10e32328-542d-40f0-a578-1a251c86079f",
      "metadata": {
        "colab": {
          "base_uri": "https://localhost:8080/"
        },
        "id": "10e32328-542d-40f0-a578-1a251c86079f",
        "outputId": "cf3bda5f-325b-43a3-a07e-81a6ef220835"
      },
      "outputs": [
        {
          "output_type": "stream",
          "name": "stdout",
          "text": [
            "Shape of y_train_category: (38021,)\n",
            "First few entries of y_train_category: [0 0 0 0 0]\n",
            "Shape of y_train_sentiment: (38021, 1)\n",
            "First few entries of y_train_sentiment: [[0]\n",
            " [1]\n",
            " [1]\n",
            " [1]\n",
            " [1]]\n"
          ]
        }
      ],
      "source": [
        "print(\"Shape of y_train_category:\", y_train_category.shape)\n",
        "print(\"First few entries of y_train_category:\", y_train_category[:5])\n",
        "\n",
        "print(\"Shape of y_train_sentiment:\", y_train_sentiment.shape)\n",
        "print(\"First few entries of y_train_sentiment:\", y_train_sentiment[:5])"
      ]
    },
    {
      "cell_type": "code",
      "execution_count": 9,
      "id": "9c5c8d99-763f-425f-b5e6-08a4b33b2131",
      "metadata": {
        "colab": {
          "base_uri": "https://localhost:8080/"
        },
        "id": "9c5c8d99-763f-425f-b5e6-08a4b33b2131",
        "outputId": "71d81c26-3ded-4517-edb8-0808d30c87cc"
      },
      "outputs": [
        {
          "output_type": "execute_result",
          "data": {
            "text/plain": [
              "0"
            ]
          },
          "metadata": {},
          "execution_count": 9
        }
      ],
      "source": [
        "from tensorflow.keras import backend as K\n",
        "import gc\n",
        "# Clear the previous model\n",
        "K.clear_session()\n",
        "gc.collect()"
      ]
    },
    {
      "cell_type": "code",
      "execution_count": 10,
      "id": "5e453bf6-c3a2-4573-a61a-9a03d1e96400",
      "metadata": {
        "scrolled": true,
        "colab": {
          "base_uri": "https://localhost:8080/",
          "height": 388
        },
        "id": "5e453bf6-c3a2-4573-a61a-9a03d1e96400",
        "outputId": "27233721-b2a1-4fa2-8678-f47fc2ce31ce"
      },
      "outputs": [
        {
          "output_type": "stream",
          "name": "stderr",
          "text": [
            "/usr/local/lib/python3.10/dist-packages/keras/src/layers/core/embedding.py:90: UserWarning: Argument `input_length` is deprecated. Just remove it.\n",
            "  warnings.warn(\n"
          ]
        },
        {
          "output_type": "display_data",
          "data": {
            "text/plain": [
              "\u001b[1mModel: \"functional\"\u001b[0m\n"
            ],
            "text/html": [
              "<pre style=\"white-space:pre;overflow-x:auto;line-height:normal;font-family:Menlo,'DejaVu Sans Mono',consolas,'Courier New',monospace\"><span style=\"font-weight: bold\">Model: \"functional\"</span>\n",
              "</pre>\n"
            ]
          },
          "metadata": {}
        },
        {
          "output_type": "display_data",
          "data": {
            "text/plain": [
              "┏━━━━━━━━━━━━━━━━━━━━━━━━━━━┳━━━━━━━━━━━━━━━━━━━━━━━━┳━━━━━━━━━━━━━━━━┳━━━━━━━━━━━━━━━━━━━━━━━━┓\n",
              "┃\u001b[1m \u001b[0m\u001b[1mLayer (type)             \u001b[0m\u001b[1m \u001b[0m┃\u001b[1m \u001b[0m\u001b[1mOutput Shape          \u001b[0m\u001b[1m \u001b[0m┃\u001b[1m \u001b[0m\u001b[1m       Param #\u001b[0m\u001b[1m \u001b[0m┃\u001b[1m \u001b[0m\u001b[1mConnected to          \u001b[0m\u001b[1m \u001b[0m┃\n",
              "┡━━━━━━━━━━━━━━━━━━━━━━━━━━━╇━━━━━━━━━━━━━━━━━━━━━━━━╇━━━━━━━━━━━━━━━━╇━━━━━━━━━━━━━━━━━━━━━━━━┩\n",
              "│ input_layer (\u001b[38;5;33mInputLayer\u001b[0m)  │ (\u001b[38;5;45mNone\u001b[0m, \u001b[38;5;34m120\u001b[0m)            │              \u001b[38;5;34m0\u001b[0m │ -                      │\n",
              "├───────────────────────────┼────────────────────────┼────────────────┼────────────────────────┤\n",
              "│ embedding (\u001b[38;5;33mEmbedding\u001b[0m)     │ (\u001b[38;5;45mNone\u001b[0m, \u001b[38;5;34m120\u001b[0m, \u001b[38;5;34m128\u001b[0m)       │      \u001b[38;5;34m2,560,000\u001b[0m │ input_layer[\u001b[38;5;34m0\u001b[0m][\u001b[38;5;34m0\u001b[0m]      │\n",
              "├───────────────────────────┼────────────────────────┼────────────────┼────────────────────────┤\n",
              "│ lstm (\u001b[38;5;33mLSTM\u001b[0m)               │ (\u001b[38;5;45mNone\u001b[0m, \u001b[38;5;34m120\u001b[0m, \u001b[38;5;34m128\u001b[0m)       │        \u001b[38;5;34m131,584\u001b[0m │ embedding[\u001b[38;5;34m0\u001b[0m][\u001b[38;5;34m0\u001b[0m]        │\n",
              "├───────────────────────────┼────────────────────────┼────────────────┼────────────────────────┤\n",
              "│ dropout (\u001b[38;5;33mDropout\u001b[0m)         │ (\u001b[38;5;45mNone\u001b[0m, \u001b[38;5;34m120\u001b[0m, \u001b[38;5;34m128\u001b[0m)       │              \u001b[38;5;34m0\u001b[0m │ lstm[\u001b[38;5;34m0\u001b[0m][\u001b[38;5;34m0\u001b[0m]             │\n",
              "├───────────────────────────┼────────────────────────┼────────────────┼────────────────────────┤\n",
              "│ lstm_1 (\u001b[38;5;33mLSTM\u001b[0m)             │ (\u001b[38;5;45mNone\u001b[0m, \u001b[38;5;34m128\u001b[0m)            │        \u001b[38;5;34m131,584\u001b[0m │ dropout[\u001b[38;5;34m0\u001b[0m][\u001b[38;5;34m0\u001b[0m]          │\n",
              "├───────────────────────────┼────────────────────────┼────────────────┼────────────────────────┤\n",
              "│ sentiment_output (\u001b[38;5;33mDense\u001b[0m)  │ (\u001b[38;5;45mNone\u001b[0m, \u001b[38;5;34m1\u001b[0m)              │            \u001b[38;5;34m129\u001b[0m │ lstm_1[\u001b[38;5;34m0\u001b[0m][\u001b[38;5;34m0\u001b[0m]           │\n",
              "├───────────────────────────┼────────────────────────┼────────────────┼────────────────────────┤\n",
              "│ category_output (\u001b[38;5;33mDense\u001b[0m)   │ (\u001b[38;5;45mNone\u001b[0m, \u001b[38;5;34m4\u001b[0m)              │            \u001b[38;5;34m516\u001b[0m │ lstm_1[\u001b[38;5;34m0\u001b[0m][\u001b[38;5;34m0\u001b[0m]           │\n",
              "└───────────────────────────┴────────────────────────┴────────────────┴────────────────────────┘\n"
            ],
            "text/html": [
              "<pre style=\"white-space:pre;overflow-x:auto;line-height:normal;font-family:Menlo,'DejaVu Sans Mono',consolas,'Courier New',monospace\">┏━━━━━━━━━━━━━━━━━━━━━━━━━━━┳━━━━━━━━━━━━━━━━━━━━━━━━┳━━━━━━━━━━━━━━━━┳━━━━━━━━━━━━━━━━━━━━━━━━┓\n",
              "┃<span style=\"font-weight: bold\"> Layer (type)              </span>┃<span style=\"font-weight: bold\"> Output Shape           </span>┃<span style=\"font-weight: bold\">        Param # </span>┃<span style=\"font-weight: bold\"> Connected to           </span>┃\n",
              "┡━━━━━━━━━━━━━━━━━━━━━━━━━━━╇━━━━━━━━━━━━━━━━━━━━━━━━╇━━━━━━━━━━━━━━━━╇━━━━━━━━━━━━━━━━━━━━━━━━┩\n",
              "│ input_layer (<span style=\"color: #0087ff; text-decoration-color: #0087ff\">InputLayer</span>)  │ (<span style=\"color: #00d7ff; text-decoration-color: #00d7ff\">None</span>, <span style=\"color: #00af00; text-decoration-color: #00af00\">120</span>)            │              <span style=\"color: #00af00; text-decoration-color: #00af00\">0</span> │ -                      │\n",
              "├───────────────────────────┼────────────────────────┼────────────────┼────────────────────────┤\n",
              "│ embedding (<span style=\"color: #0087ff; text-decoration-color: #0087ff\">Embedding</span>)     │ (<span style=\"color: #00d7ff; text-decoration-color: #00d7ff\">None</span>, <span style=\"color: #00af00; text-decoration-color: #00af00\">120</span>, <span style=\"color: #00af00; text-decoration-color: #00af00\">128</span>)       │      <span style=\"color: #00af00; text-decoration-color: #00af00\">2,560,000</span> │ input_layer[<span style=\"color: #00af00; text-decoration-color: #00af00\">0</span>][<span style=\"color: #00af00; text-decoration-color: #00af00\">0</span>]      │\n",
              "├───────────────────────────┼────────────────────────┼────────────────┼────────────────────────┤\n",
              "│ lstm (<span style=\"color: #0087ff; text-decoration-color: #0087ff\">LSTM</span>)               │ (<span style=\"color: #00d7ff; text-decoration-color: #00d7ff\">None</span>, <span style=\"color: #00af00; text-decoration-color: #00af00\">120</span>, <span style=\"color: #00af00; text-decoration-color: #00af00\">128</span>)       │        <span style=\"color: #00af00; text-decoration-color: #00af00\">131,584</span> │ embedding[<span style=\"color: #00af00; text-decoration-color: #00af00\">0</span>][<span style=\"color: #00af00; text-decoration-color: #00af00\">0</span>]        │\n",
              "├───────────────────────────┼────────────────────────┼────────────────┼────────────────────────┤\n",
              "│ dropout (<span style=\"color: #0087ff; text-decoration-color: #0087ff\">Dropout</span>)         │ (<span style=\"color: #00d7ff; text-decoration-color: #00d7ff\">None</span>, <span style=\"color: #00af00; text-decoration-color: #00af00\">120</span>, <span style=\"color: #00af00; text-decoration-color: #00af00\">128</span>)       │              <span style=\"color: #00af00; text-decoration-color: #00af00\">0</span> │ lstm[<span style=\"color: #00af00; text-decoration-color: #00af00\">0</span>][<span style=\"color: #00af00; text-decoration-color: #00af00\">0</span>]             │\n",
              "├───────────────────────────┼────────────────────────┼────────────────┼────────────────────────┤\n",
              "│ lstm_1 (<span style=\"color: #0087ff; text-decoration-color: #0087ff\">LSTM</span>)             │ (<span style=\"color: #00d7ff; text-decoration-color: #00d7ff\">None</span>, <span style=\"color: #00af00; text-decoration-color: #00af00\">128</span>)            │        <span style=\"color: #00af00; text-decoration-color: #00af00\">131,584</span> │ dropout[<span style=\"color: #00af00; text-decoration-color: #00af00\">0</span>][<span style=\"color: #00af00; text-decoration-color: #00af00\">0</span>]          │\n",
              "├───────────────────────────┼────────────────────────┼────────────────┼────────────────────────┤\n",
              "│ sentiment_output (<span style=\"color: #0087ff; text-decoration-color: #0087ff\">Dense</span>)  │ (<span style=\"color: #00d7ff; text-decoration-color: #00d7ff\">None</span>, <span style=\"color: #00af00; text-decoration-color: #00af00\">1</span>)              │            <span style=\"color: #00af00; text-decoration-color: #00af00\">129</span> │ lstm_1[<span style=\"color: #00af00; text-decoration-color: #00af00\">0</span>][<span style=\"color: #00af00; text-decoration-color: #00af00\">0</span>]           │\n",
              "├───────────────────────────┼────────────────────────┼────────────────┼────────────────────────┤\n",
              "│ category_output (<span style=\"color: #0087ff; text-decoration-color: #0087ff\">Dense</span>)   │ (<span style=\"color: #00d7ff; text-decoration-color: #00d7ff\">None</span>, <span style=\"color: #00af00; text-decoration-color: #00af00\">4</span>)              │            <span style=\"color: #00af00; text-decoration-color: #00af00\">516</span> │ lstm_1[<span style=\"color: #00af00; text-decoration-color: #00af00\">0</span>][<span style=\"color: #00af00; text-decoration-color: #00af00\">0</span>]           │\n",
              "└───────────────────────────┴────────────────────────┴────────────────┴────────────────────────┘\n",
              "</pre>\n"
            ]
          },
          "metadata": {}
        },
        {
          "output_type": "display_data",
          "data": {
            "text/plain": [
              "\u001b[1m Total params: \u001b[0m\u001b[38;5;34m2,823,813\u001b[0m (10.77 MB)\n"
            ],
            "text/html": [
              "<pre style=\"white-space:pre;overflow-x:auto;line-height:normal;font-family:Menlo,'DejaVu Sans Mono',consolas,'Courier New',monospace\"><span style=\"font-weight: bold\"> Total params: </span><span style=\"color: #00af00; text-decoration-color: #00af00\">2,823,813</span> (10.77 MB)\n",
              "</pre>\n"
            ]
          },
          "metadata": {}
        },
        {
          "output_type": "display_data",
          "data": {
            "text/plain": [
              "\u001b[1m Trainable params: \u001b[0m\u001b[38;5;34m2,823,813\u001b[0m (10.77 MB)\n"
            ],
            "text/html": [
              "<pre style=\"white-space:pre;overflow-x:auto;line-height:normal;font-family:Menlo,'DejaVu Sans Mono',consolas,'Courier New',monospace\"><span style=\"font-weight: bold\"> Trainable params: </span><span style=\"color: #00af00; text-decoration-color: #00af00\">2,823,813</span> (10.77 MB)\n",
              "</pre>\n"
            ]
          },
          "metadata": {}
        },
        {
          "output_type": "display_data",
          "data": {
            "text/plain": [
              "\u001b[1m Non-trainable params: \u001b[0m\u001b[38;5;34m0\u001b[0m (0.00 B)\n"
            ],
            "text/html": [
              "<pre style=\"white-space:pre;overflow-x:auto;line-height:normal;font-family:Menlo,'DejaVu Sans Mono',consolas,'Courier New',monospace\"><span style=\"font-weight: bold\"> Non-trainable params: </span><span style=\"color: #00af00; text-decoration-color: #00af00\">0</span> (0.00 B)\n",
              "</pre>\n"
            ]
          },
          "metadata": {}
        }
      ],
      "source": [
        "from tensorflow.keras.models import Model\n",
        "from tensorflow.keras.layers import Input, Embedding, LSTM, Dense, Dropout\n",
        "\n",
        "# Define the model\n",
        "input_layer = Input(shape=(max_seq_len,))\n",
        "embedding_layer = Embedding(input_dim=max_vocab_size, output_dim=128, input_length=max_seq_len)(input_layer)\n",
        "lstm_layer = LSTM(128, return_sequences=True)(embedding_layer)\n",
        "dropout_layer = Dropout(0.5)(lstm_layer)\n",
        "lstm_layer_2 = LSTM(128)(dropout_layer)\n",
        "\n",
        "# Sentiment analysis output branch (binary classification)\n",
        "sentiment_output = Dense(1, activation='sigmoid', name='sentiment_output')(lstm_layer_2)\n",
        "\n",
        "# Category classification output branch (multi-class classification)\n",
        "category_output = Dense(len(category_mapping), activation='softmax', name='category_output')(lstm_layer_2)\n",
        "\n",
        "# Compile the model using sparse_categorical_crossentropy for the category classification\n",
        "model = Model(inputs=input_layer, outputs=[sentiment_output, category_output])\n",
        "model.compile(optimizer='adam',\n",
        "              loss={'sentiment_output': 'binary_crossentropy', 'category_output': 'sparse_categorical_crossentropy'},\n",
        "              metrics={'sentiment_output': 'accuracy', 'category_output': 'accuracy'})\n",
        "\n",
        "# Print model summary\n",
        "model.summary()\n"
      ]
    },
    {
      "cell_type": "code",
      "execution_count": 11,
      "id": "59e222ca-dfc0-4745-a9f8-0dcfb4822780",
      "metadata": {
        "colab": {
          "base_uri": "https://localhost:8080/"
        },
        "id": "59e222ca-dfc0-4745-a9f8-0dcfb4822780",
        "outputId": "b07ecd7c-ca0b-4d1f-be9a-fe46dc4ee485"
      },
      "outputs": [
        {
          "output_type": "stream",
          "name": "stdout",
          "text": [
            "X_train shape: (38021, 120)\n",
            "y_train_sentiment shape: (38021, 1)\n",
            "y_train_category shape: (38021,)\n"
          ]
        }
      ],
      "source": [
        "print(\"X_train shape:\", X_train.shape)\n",
        "print(\"y_train_sentiment shape:\", y_train_sentiment.shape)  # Should be (batch_size, 1)\n",
        "print(\"y_train_category shape:\", y_train_category.shape)    # Should be (batch_size,)\n"
      ]
    },
    {
      "cell_type": "code",
      "execution_count": 12,
      "id": "41ffb042-d709-4780-94af-0cc404bb1934",
      "metadata": {
        "colab": {
          "base_uri": "https://localhost:8080/"
        },
        "id": "41ffb042-d709-4780-94af-0cc404bb1934",
        "outputId": "d3e4cee5-e69c-4367-abba-0ba9dba89893"
      },
      "outputs": [
        {
          "output_type": "stream",
          "name": "stdout",
          "text": [
            "Epoch 1/10\n",
            "\u001b[1m595/595\u001b[0m \u001b[32m━━━━━━━━━━━━━━━━━━━━\u001b[0m\u001b[37m\u001b[0m \u001b[1m372s\u001b[0m 618ms/step - category_output_accuracy: 0.4655 - loss: 1.6770 - sentiment_output_accuracy: 0.7897 - val_category_output_accuracy: 0.4621 - val_loss: 1.6777 - val_sentiment_output_accuracy: 0.7874\n",
            "Epoch 2/10\n",
            "\u001b[1m595/595\u001b[0m \u001b[32m━━━━━━━━━━━━━━━━━━━━\u001b[0m\u001b[37m\u001b[0m \u001b[1m363s\u001b[0m 587ms/step - category_output_accuracy: 0.4745 - loss: 1.6410 - sentiment_output_accuracy: 0.7932 - val_category_output_accuracy: 0.4699 - val_loss: 1.6382 - val_sentiment_output_accuracy: 0.7874\n",
            "Epoch 3/10\n",
            "\u001b[1m595/595\u001b[0m \u001b[32m━━━━━━━━━━━━━━━━━━━━\u001b[0m\u001b[37m\u001b[0m \u001b[1m399s\u001b[0m 616ms/step - category_output_accuracy: 0.4734 - loss: 1.5935 - sentiment_output_accuracy: 0.7935 - val_category_output_accuracy: 0.4669 - val_loss: 1.5750 - val_sentiment_output_accuracy: 0.7874\n",
            "Epoch 4/10\n",
            "\u001b[1m595/595\u001b[0m \u001b[32m━━━━━━━━━━━━━━━━━━━━\u001b[0m\u001b[37m\u001b[0m \u001b[1m377s\u001b[0m 607ms/step - category_output_accuracy: 0.4790 - loss: 1.5383 - sentiment_output_accuracy: 0.7967 - val_category_output_accuracy: 0.4719 - val_loss: 1.5704 - val_sentiment_output_accuracy: 0.7874\n",
            "Epoch 5/10\n",
            "\u001b[1m595/595\u001b[0m \u001b[32m━━━━━━━━━━━━━━━━━━━━\u001b[0m\u001b[37m\u001b[0m \u001b[1m381s\u001b[0m 606ms/step - category_output_accuracy: 0.4752 - loss: 1.5446 - sentiment_output_accuracy: 0.7913 - val_category_output_accuracy: 0.4964 - val_loss: 1.5590 - val_sentiment_output_accuracy: 0.7874\n",
            "Epoch 6/10\n",
            "\u001b[1m595/595\u001b[0m \u001b[32m━━━━━━━━━━━━━━━━━━━━\u001b[0m\u001b[37m\u001b[0m \u001b[1m363s\u001b[0m 574ms/step - category_output_accuracy: 0.4797 - loss: 1.5991 - sentiment_output_accuracy: 0.7912 - val_category_output_accuracy: 0.4621 - val_loss: 1.6789 - val_sentiment_output_accuracy: 0.7874\n",
            "Epoch 7/10\n",
            "\u001b[1m595/595\u001b[0m \u001b[32m━━━━━━━━━━━━━━━━━━━━\u001b[0m\u001b[37m\u001b[0m \u001b[1m338s\u001b[0m 569ms/step - category_output_accuracy: 0.4630 - loss: 1.6604 - sentiment_output_accuracy: 0.7939 - val_category_output_accuracy: 0.4621 - val_loss: 1.6727 - val_sentiment_output_accuracy: 0.7874\n",
            "Epoch 8/10\n",
            "\u001b[1m595/595\u001b[0m \u001b[32m━━━━━━━━━━━━━━━━━━━━\u001b[0m\u001b[37m\u001b[0m \u001b[1m379s\u001b[0m 564ms/step - category_output_accuracy: 0.4645 - loss: 1.6588 - sentiment_output_accuracy: 0.7916 - val_category_output_accuracy: 0.4621 - val_loss: 1.6715 - val_sentiment_output_accuracy: 0.7874\n",
            "Epoch 9/10\n",
            "\u001b[1m595/595\u001b[0m \u001b[32m━━━━━━━━━━━━━━━━━━━━\u001b[0m\u001b[37m\u001b[0m \u001b[1m354s\u001b[0m 595ms/step - category_output_accuracy: 0.4685 - loss: 1.6551 - sentiment_output_accuracy: 0.7945 - val_category_output_accuracy: 0.4621 - val_loss: 1.6719 - val_sentiment_output_accuracy: 0.7874\n",
            "Epoch 10/10\n",
            "\u001b[1m595/595\u001b[0m \u001b[32m━━━━━━━━━━━━━━━━━━━━\u001b[0m\u001b[37m\u001b[0m \u001b[1m337s\u001b[0m 566ms/step - category_output_accuracy: 0.4701 - loss: 1.6577 - sentiment_output_accuracy: 0.7915 - val_category_output_accuracy: 0.4621 - val_loss: 1.6732 - val_sentiment_output_accuracy: 0.7874\n"
          ]
        }
      ],
      "source": [
        "# Train the model\n",
        "history = model.fit(X_train,\n",
        "                    {'sentiment_output': y_train_sentiment, 'category_output': y_train_category},\n",
        "                    validation_data=(X_val, {'sentiment_output': y_val_sentiment, 'category_output': y_val_category}),\n",
        "                    epochs=10,\n",
        "                    batch_size=64)\n"
      ]
    }
  ],
  "metadata": {
    "kernelspec": {
      "display_name": "Python 3 (ipykernel)",
      "language": "python",
      "name": "python3"
    },
    "language_info": {
      "codemirror_mode": {
        "name": "ipython",
        "version": 3
      },
      "file_extension": ".py",
      "mimetype": "text/x-python",
      "name": "python",
      "nbconvert_exporter": "python",
      "pygments_lexer": "ipython3",
      "version": "3.12.4"
    },
    "colab": {
      "provenance": [],
      "include_colab_link": true
    }
  },
  "nbformat": 4,
  "nbformat_minor": 5
}